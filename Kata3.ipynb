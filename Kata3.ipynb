{
 "cells": [
  {
   "cell_type": "markdown",
   "metadata": {},
   "source": [
    "## Ejercicio - Escribir declaraciones if, else, y elif"
   ]
  },
  {
   "cell_type": "code",
   "execution_count": 11,
   "metadata": {},
   "outputs": [
    {
     "name": "stdout",
     "output_type": "stream",
     "text": [
      "¡Advertencia! El asteroide está muy cerca\n"
     ]
    }
   ],
   "source": [
    "# Añadir el código necesario para crear una variable que guarde la velocidad del asteroide.\n",
    "# Escribe una expresión de prueba para calcular si necesita una advertencia.\n",
    "# Agregue las instrucciones que se ejecutarán si la expresión de prueba es true o false.\n",
    "velocidadAsteroide = 49\n",
    "if velocidadAsteroide >= 25:\n",
    "    print (\"¡Advertencia! El asteroide está muy cerca\")\n",
    "elif velocidadAsteroide >=20:\n",
    "    print(\"¡Alerta!, deben buscar un asteroide en el cielo\")\n",
    "else:\n",
    "    print(\"Sin riesgo, estamos a salvo\")"
   ]
  },
  {
   "cell_type": "code",
   "execution_count": 12,
   "metadata": {},
   "outputs": [
    {
     "name": "stdout",
     "output_type": "stream",
     "text": [
      "Sin riesgo, estamos a salvo\n"
     ]
    }
   ],
   "source": [
    "# Agrega el código para crear una variable para un asteroide que viaja a 19 km/s\n",
    "# Escribe varias expresiones de prueba para determinar si puedes ver el rayo de luz desde la tierra\n",
    "# Agrega las instrucciones que se ejecutarán si las expresiones de prueba son True o False\n",
    "velocidadAsteroide = 19\n",
    "if velocidadAsteroide >= 25:\n",
    "    print (\"¡Advertencia! El asteroide está muy cerca\")\n",
    "elif velocidadAsteroide >=20:\n",
    "    print(\"¡Alerta!, deben buscar un asteroide en el cielo\")\n",
    "else:\n",
    "    print(\"Sin riesgo, estamos a salvo\")"
   ]
  },
  {
   "cell_type": "markdown",
   "metadata": {},
   "source": [
    "## Ejercicio: Uso de operadores and y or"
   ]
  },
  {
   "cell_type": "code",
   "execution_count": 4,
   "metadata": {},
   "outputs": [
    {
     "name": "stdout",
     "output_type": "stream",
     "text": [
      "¡Advertencia! Un gran asteroide está muy cerca\n"
     ]
    }
   ],
   "source": [
    "velocidadAsteroide = 37\n",
    "tamañoAsteroide = 27\n",
    "if velocidadAsteroide > 25 and tamañoAsteroide > 25:\n",
    "    print (\"¡Advertencia! Un gran asteroide está muy cerca\")\n",
    "elif velocidadAsteroide >= 20:\n",
    "    print (\"¡Alerta!, deben buscar un asteroide en el cielo\")\n",
    "elif tamañoAsteroide < 25:\n",
    "    print (\"Sin riesgo, estamos a salvo\")\n",
    "else:\n",
    "    print(\"Sin riesgo, estamos a salvo\")"
   ]
  }
 ],
 "metadata": {
  "interpreter": {
   "hash": "f8b5fcae482eb7bef248f32a242642c7ddc84c8abd81733930fe81686243c944"
  },
  "kernelspec": {
   "display_name": "Python 3.10.2 64-bit",
   "language": "python",
   "name": "python3"
  },
  "language_info": {
   "codemirror_mode": {
    "name": "ipython",
    "version": 3
   },
   "file_extension": ".py",
   "mimetype": "text/x-python",
   "name": "python",
   "nbconvert_exporter": "python",
   "pygments_lexer": "ipython3",
   "version": "3.10.2"
  },
  "orig_nbformat": 4
 },
 "nbformat": 4,
 "nbformat_minor": 2
}
